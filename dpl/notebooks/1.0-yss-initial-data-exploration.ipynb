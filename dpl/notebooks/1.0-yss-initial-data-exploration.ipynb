{
 "cells": [
  {
   "cell_type": "markdown",
   "metadata": {},
   "source": [
    "# This notebook is for IDA ( Initial data exploration )"
   ]
  },
  {
   "cell_type": "code",
   "execution_count": 2,
   "metadata": {
    "collapsed": true
   },
   "outputs": [],
   "source": [
    "# Imports\n",
    "import pandas as pd"
   ]
  },
  {
   "cell_type": "code",
   "execution_count": 3,
   "metadata": {
    "collapsed": false
   },
   "outputs": [
    {
     "name": "stdout",
     "output_type": "stream",
     "text": [
      "1.0-yss-initial-data-exploration.ipynb\r\n"
     ]
    }
   ],
   "source": [
    "!ls"
   ]
  },
  {
   "cell_type": "code",
   "execution_count": 4,
   "metadata": {
    "collapsed": false
   },
   "outputs": [],
   "source": [
    "bbb_data = pd.read_csv(\"/home/ds/notebooks/data/raw/train/ball_by_ball_data.csv\")"
   ]
  },
  {
   "cell_type": "code",
   "execution_count": 54,
   "metadata": {
    "collapsed": false,
    "scrolled": false
   },
   "outputs": [
    {
     "data": {
      "text/html": [
       "<div>\n",
       "<table border=\"1\" class=\"dataframe\">\n",
       "  <thead>\n",
       "    <tr style=\"text-align: right;\">\n",
       "      <th></th>\n",
       "      <th>match_id</th>\n",
       "      <th>inning</th>\n",
       "      <th>batting_team</th>\n",
       "      <th>bowling_team</th>\n",
       "      <th>over</th>\n",
       "      <th>ball</th>\n",
       "      <th>batsman</th>\n",
       "      <th>batsman_id</th>\n",
       "      <th>non_striker</th>\n",
       "      <th>non_striker_id</th>\n",
       "      <th>bowler</th>\n",
       "      <th>bowler_id</th>\n",
       "      <th>batsman_runs</th>\n",
       "      <th>extra_runs</th>\n",
       "      <th>player_dismissed</th>\n",
       "      <th>player_dismissed_id</th>\n",
       "      <th>dismissal_kind</th>\n",
       "      <th>is_super_over</th>\n",
       "    </tr>\n",
       "  </thead>\n",
       "  <tbody>\n",
       "  </tbody>\n",
       "</table>\n",
       "</div>"
      ],
      "text/plain": [
       "Empty DataFrame\n",
       "Columns: [match_id, inning, batting_team, bowling_team, over, ball, batsman, batsman_id, non_striker, non_striker_id, bowler, bowler_id, batsman_runs, extra_runs, player_dismissed, player_dismissed_id, dismissal_kind, is_super_over]\n",
       "Index: []"
      ]
     },
     "execution_count": 54,
     "metadata": {},
     "output_type": "execute_result"
    }
   ],
   "source": [
    "bbb_data[(bbb_data.bowler == 'Tymal Mills') & (bbb_data.is_super_over == 1)]\n",
    "# .match_id.unique()\n",
    "# & (bbb_data.dismissal_kind.notnull())"
   ]
  },
  {
   "cell_type": "code",
   "execution_count": 52,
   "metadata": {
    "collapsed": false
   },
   "outputs": [
    {
     "data": {
      "text/html": [
       "<div>\n",
       "<table border=\"1\" class=\"dataframe\">\n",
       "  <thead>\n",
       "    <tr style=\"text-align: right;\">\n",
       "      <th></th>\n",
       "      <th>match_id</th>\n",
       "      <th>inning</th>\n",
       "      <th>batting_team</th>\n",
       "      <th>bowling_team</th>\n",
       "      <th>over</th>\n",
       "      <th>ball</th>\n",
       "      <th>batsman</th>\n",
       "      <th>batsman_id</th>\n",
       "      <th>non_striker</th>\n",
       "      <th>non_striker_id</th>\n",
       "      <th>bowler</th>\n",
       "      <th>bowler_id</th>\n",
       "      <th>batsman_runs</th>\n",
       "      <th>extra_runs</th>\n",
       "      <th>player_dismissed</th>\n",
       "      <th>player_dismissed_id</th>\n",
       "      <th>dismissal_kind</th>\n",
       "      <th>is_super_over</th>\n",
       "    </tr>\n",
       "  </thead>\n",
       "  <tbody>\n",
       "    <tr>\n",
       "      <th>4</th>\n",
       "      <td>2017_1</td>\n",
       "      <td>1</td>\n",
       "      <td>SRH</td>\n",
       "      <td>RCB</td>\n",
       "      <td>1</td>\n",
       "      <td>5</td>\n",
       "      <td>David Warner</td>\n",
       "      <td>207</td>\n",
       "      <td>Shikhar Dhawan</td>\n",
       "      <td>57</td>\n",
       "      <td>Tymal Mills</td>\n",
       "      <td>621</td>\n",
       "      <td>0</td>\n",
       "      <td>2</td>\n",
       "      <td>NaN</td>\n",
       "      <td>NaN</td>\n",
       "      <td>NaN</td>\n",
       "      <td>0</td>\n",
       "    </tr>\n",
       "    <tr>\n",
       "      <th>6</th>\n",
       "      <td>2017_1</td>\n",
       "      <td>1</td>\n",
       "      <td>SRH</td>\n",
       "      <td>RCB</td>\n",
       "      <td>1</td>\n",
       "      <td>7</td>\n",
       "      <td>Shikhar Dhawan</td>\n",
       "      <td>57</td>\n",
       "      <td>David Warner</td>\n",
       "      <td>207</td>\n",
       "      <td>Tymal Mills</td>\n",
       "      <td>621</td>\n",
       "      <td>0</td>\n",
       "      <td>1</td>\n",
       "      <td>NaN</td>\n",
       "      <td>NaN</td>\n",
       "      <td>NaN</td>\n",
       "      <td>0</td>\n",
       "    </tr>\n",
       "    <tr>\n",
       "      <th>9</th>\n",
       "      <td>2017_1</td>\n",
       "      <td>1</td>\n",
       "      <td>SRH</td>\n",
       "      <td>RCB</td>\n",
       "      <td>2</td>\n",
       "      <td>3</td>\n",
       "      <td>David Warner</td>\n",
       "      <td>207</td>\n",
       "      <td>Shikhar Dhawan</td>\n",
       "      <td>57</td>\n",
       "      <td>Aniket Choudhary</td>\n",
       "      <td>480</td>\n",
       "      <td>0</td>\n",
       "      <td>1</td>\n",
       "      <td>NaN</td>\n",
       "      <td>NaN</td>\n",
       "      <td>NaN</td>\n",
       "      <td>0</td>\n",
       "    </tr>\n",
       "    <tr>\n",
       "      <th>78</th>\n",
       "      <td>2017_1</td>\n",
       "      <td>1</td>\n",
       "      <td>SRH</td>\n",
       "      <td>RCB</td>\n",
       "      <td>13</td>\n",
       "      <td>5</td>\n",
       "      <td>Yuvraj Singh</td>\n",
       "      <td>88</td>\n",
       "      <td>Moises Henriques</td>\n",
       "      <td>212</td>\n",
       "      <td>Aniket Choudhary</td>\n",
       "      <td>480</td>\n",
       "      <td>0</td>\n",
       "      <td>1</td>\n",
       "      <td>NaN</td>\n",
       "      <td>NaN</td>\n",
       "      <td>NaN</td>\n",
       "      <td>0</td>\n",
       "    </tr>\n",
       "    <tr>\n",
       "      <th>107</th>\n",
       "      <td>2017_1</td>\n",
       "      <td>1</td>\n",
       "      <td>SRH</td>\n",
       "      <td>RCB</td>\n",
       "      <td>18</td>\n",
       "      <td>3</td>\n",
       "      <td>Yuvraj Singh</td>\n",
       "      <td>88</td>\n",
       "      <td>Deepak Hooda</td>\n",
       "      <td>529</td>\n",
       "      <td>Aniket Choudhary</td>\n",
       "      <td>480</td>\n",
       "      <td>0</td>\n",
       "      <td>1</td>\n",
       "      <td>NaN</td>\n",
       "      <td>NaN</td>\n",
       "      <td>NaN</td>\n",
       "      <td>0</td>\n",
       "    </tr>\n",
       "    <tr>\n",
       "      <th>108</th>\n",
       "      <td>2017_1</td>\n",
       "      <td>1</td>\n",
       "      <td>SRH</td>\n",
       "      <td>RCB</td>\n",
       "      <td>18</td>\n",
       "      <td>4</td>\n",
       "      <td>Yuvraj Singh</td>\n",
       "      <td>88</td>\n",
       "      <td>Deepak Hooda</td>\n",
       "      <td>529</td>\n",
       "      <td>Aniket Choudhary</td>\n",
       "      <td>480</td>\n",
       "      <td>0</td>\n",
       "      <td>1</td>\n",
       "      <td>NaN</td>\n",
       "      <td>NaN</td>\n",
       "      <td>NaN</td>\n",
       "      <td>0</td>\n",
       "    </tr>\n",
       "  </tbody>\n",
       "</table>\n",
       "</div>"
      ],
      "text/plain": [
       "    match_id  inning batting_team bowling_team  over  ball         batsman  \\\n",
       "4     2017_1       1          SRH          RCB     1     5    David Warner   \n",
       "6     2017_1       1          SRH          RCB     1     7  Shikhar Dhawan   \n",
       "9     2017_1       1          SRH          RCB     2     3    David Warner   \n",
       "78    2017_1       1          SRH          RCB    13     5    Yuvraj Singh   \n",
       "107   2017_1       1          SRH          RCB    18     3    Yuvraj Singh   \n",
       "108   2017_1       1          SRH          RCB    18     4    Yuvraj Singh   \n",
       "\n",
       "     batsman_id       non_striker  non_striker_id            bowler  \\\n",
       "4           207    Shikhar Dhawan              57       Tymal Mills   \n",
       "6            57      David Warner             207       Tymal Mills   \n",
       "9           207    Shikhar Dhawan              57  Aniket Choudhary   \n",
       "78           88  Moises Henriques             212  Aniket Choudhary   \n",
       "107          88      Deepak Hooda             529  Aniket Choudhary   \n",
       "108          88      Deepak Hooda             529  Aniket Choudhary   \n",
       "\n",
       "     bowler_id  batsman_runs  extra_runs player_dismissed  \\\n",
       "4          621             0           2              NaN   \n",
       "6          621             0           1              NaN   \n",
       "9          480             0           1              NaN   \n",
       "78         480             0           1              NaN   \n",
       "107        480             0           1              NaN   \n",
       "108        480             0           1              NaN   \n",
       "\n",
       "     player_dismissed_id dismissal_kind  is_super_over  \n",
       "4                    NaN            NaN              0  \n",
       "6                    NaN            NaN              0  \n",
       "9                    NaN            NaN              0  \n",
       "78                   NaN            NaN              0  \n",
       "107                  NaN            NaN              0  \n",
       "108                  NaN            NaN              0  "
      ]
     },
     "execution_count": 52,
     "metadata": {},
     "output_type": "execute_result"
    }
   ],
   "source": [
    "bbb_data[(bbb_data.match_id == '2017_1') & (bbb_data.inning == 1) & (bbb_data.extra_runs != 0)]"
   ]
  },
  {
   "cell_type": "code",
   "execution_count": 41,
   "metadata": {
    "collapsed": false
   },
   "outputs": [
    {
     "data": {
      "text/plain": [
       "2.25"
      ]
     },
     "execution_count": 41,
     "metadata": {},
     "output_type": "execute_result"
    }
   ],
   "source": [
    "9/4"
   ]
  },
  {
   "cell_type": "code",
   "execution_count": 42,
   "metadata": {
    "collapsed": false
   },
   "outputs": [
    {
     "name": "stdout",
     "output_type": "stream",
     "text": [
      "1.0-yss-initial-data-exploration.ipynb\tball_by_ball_data.csv\r\n"
     ]
    }
   ],
   "source": [
    "!ls"
   ]
  },
  {
   "cell_type": "code",
   "execution_count": null,
   "metadata": {
    "collapsed": true
   },
   "outputs": [],
   "source": []
  }
 ],
 "metadata": {
  "kernelspec": {
   "display_name": "Python 3",
   "language": "python",
   "name": "python3"
  },
  "language_info": {
   "codemirror_mode": {
    "name": "ipython",
    "version": 3
   },
   "file_extension": ".py",
   "mimetype": "text/x-python",
   "name": "python",
   "nbconvert_exporter": "python",
   "pygments_lexer": "ipython3",
   "version": "3.4.3"
  }
 },
 "nbformat": 4,
 "nbformat_minor": 1
}
